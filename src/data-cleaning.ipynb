{
 "cells": [
  {
   "cell_type": "code",
   "execution_count": 1,
   "metadata": {},
   "outputs": [],
   "source": [
    "import pandas as pd"
   ]
  },
  {
   "cell_type": "code",
   "execution_count": 241,
   "metadata": {},
   "outputs": [],
   "source": [
    "## Load datasets\n",
    "data1 = pd.read_csv('../data/raw/log-data.csv')\n",
    "data2 = pd.read_csv('../data/raw/production-cost.csv')\n",
    "data3 = pd.read_csv('../data/raw/products.csv')\n",
    "data4 = pd.read_csv('../data/raw/warehouse-shipping-costs.csv')"
   ]
  },
  {
   "cell_type": "code",
   "execution_count": 242,
   "metadata": {},
   "outputs": [
    {
     "name": "stdout",
     "output_type": "stream",
     "text": [
      "         Date Order_ID Product_ID Dest. Warehouse  Source Factory  \\\n",
      "0  2023-04-01   O00001       P011            W013            F001   \n",
      "1  2023-04-01   O00002       P003            W007            F005   \n",
      "2  2023-04-01   O00003       P005            W008            F005   \n",
      "3  2023-04-01   O00004       P017            W009            F001   \n",
      "4  2023-04-01   O00005       P019            W019            F002   \n",
      "\n",
      "   Shipping Time (Expected)  Shipping Time (Actual) Delay Risk?  \\\n",
      "0                         4                       4          No   \n",
      "1                         3                       2          No   \n",
      "2                         4                       5         Yes   \n",
      "3                         3                       3          No   \n",
      "4                         6                       6          No   \n",
      "\n",
      "   Total No. of Pieces  No. of pieces sold  No. of Pieces Returned  \\\n",
      "0                 1873                1368                      76   \n",
      "1                  820                 582                      36   \n",
      "2                 1225                 781                      86   \n",
      "3                 1559                1304                      56   \n",
      "4                  907                 596                      50   \n",
      "\n",
      "   Avg. Batch Rating  \n",
      "0                4.4  \n",
      "1                3.8  \n",
      "2                4.7  \n",
      "3                4.7  \n",
      "4                4.9  \n"
     ]
    }
   ],
   "source": [
    "print(data1.head())"
   ]
  },
  {
   "cell_type": "code",
   "execution_count": 243,
   "metadata": {},
   "outputs": [
    {
     "name": "stdout",
     "output_type": "stream",
     "text": [
      "       Shipping Time (Expected)  Shipping Time (Actual)  Total No. of Pieces  \\\n",
      "count              82463.000000            82463.000000         82463.000000   \n",
      "mean                   4.311449                4.486812          1223.386974   \n",
      "std                    1.106820                1.553862           385.185614   \n",
      "min                    3.000000                1.000000           500.000000   \n",
      "25%                    3.000000                3.000000           921.000000   \n",
      "50%                    4.000000                4.000000          1232.000000   \n",
      "75%                    5.000000                6.000000          1547.000000   \n",
      "max                    6.000000                8.000000          1999.000000   \n",
      "\n",
      "       No. of pieces sold  No. of Pieces Returned  Avg. Batch Rating  \n",
      "count        82463.000000            82463.000000       82463.000000  \n",
      "mean           871.602719               69.869905           4.249951  \n",
      "std            327.172347               35.470197           0.434285  \n",
      "min            101.000000               14.000000           3.500000  \n",
      "25%            610.000000               45.000000           3.900000  \n",
      "50%            871.000000               63.000000           4.200000  \n",
      "75%           1108.000000               86.000000           4.600000  \n",
      "max           1794.000000              333.000000           5.000000  \n"
     ]
    }
   ],
   "source": [
    "print(data1.describe())"
   ]
  },
  {
   "cell_type": "code",
   "execution_count": 244,
   "metadata": {},
   "outputs": [],
   "source": [
    "data1 = data1.rename(columns={'Date': 'date', 'Order_ID': 'order_id', 'Product_ID': 'product_id', 'Dest. Warehouse': 'warehouse', ' Source Factory': 'factory_id', 'Shipping Time (Expected)': 'expected_shipping_time', 'Shipping Time (Actual)': 'actual_shipping_time', 'Delay Risk?': 'delay_risk', 'Total No. of Pieces': 'total_pieces', 'No. of pieces sold': 'pieces_sold', 'No. of Pieces Returned': 'pieces_returned', 'Avg. Batch Rating': 'average_batch_rating'})"
   ]
  },
  {
   "cell_type": "code",
   "execution_count": 245,
   "metadata": {},
   "outputs": [
    {
     "name": "stdout",
     "output_type": "stream",
     "text": [
      "         date order_id product_id warehouse factory_id  \\\n",
      "0  2023-04-01   O00001       P011      W013       F001   \n",
      "1  2023-04-01   O00002       P003      W007       F005   \n",
      "2  2023-04-01   O00003       P005      W008       F005   \n",
      "3  2023-04-01   O00004       P017      W009       F001   \n",
      "4  2023-04-01   O00005       P019      W019       F002   \n",
      "\n",
      "   expected_shipping_time  actual_shipping_time delay_risk  total_pieces  \\\n",
      "0                       4                     4         No          1873   \n",
      "1                       3                     2         No           820   \n",
      "2                       4                     5        Yes          1225   \n",
      "3                       3                     3         No          1559   \n",
      "4                       6                     6         No           907   \n",
      "\n",
      "   pieces_sold  pieces_returned  average_batch_rating  \n",
      "0         1368               76                   4.4  \n",
      "1          582               36                   3.8  \n",
      "2          781               86                   4.7  \n",
      "3         1304               56                   4.7  \n",
      "4          596               50                   4.9  \n"
     ]
    }
   ],
   "source": [
    "print(data1.head())"
   ]
  },
  {
   "cell_type": "code",
   "execution_count": 246,
   "metadata": {},
   "outputs": [
    {
     "name": "stdout",
     "output_type": "stream",
     "text": [
      "<class 'pandas.core.frame.DataFrame'>\n",
      "RangeIndex: 82463 entries, 0 to 82462\n",
      "Data columns (total 12 columns):\n",
      " #   Column                  Non-Null Count  Dtype  \n",
      "---  ------                  --------------  -----  \n",
      " 0   date                    82463 non-null  object \n",
      " 1   order_id                82463 non-null  object \n",
      " 2   product_id              82463 non-null  object \n",
      " 3   warehouse               82463 non-null  object \n",
      " 4   factory_id              82463 non-null  object \n",
      " 5   expected_shipping_time  82463 non-null  int64  \n",
      " 6   actual_shipping_time    82463 non-null  int64  \n",
      " 7   delay_risk              82463 non-null  object \n",
      " 8   total_pieces            82463 non-null  int64  \n",
      " 9   pieces_sold             82463 non-null  int64  \n",
      " 10  pieces_returned         82463 non-null  int64  \n",
      " 11  average_batch_rating    82463 non-null  float64\n",
      "dtypes: float64(1), int64(5), object(6)\n",
      "memory usage: 7.5+ MB\n"
     ]
    }
   ],
   "source": [
    "data1.info()"
   ]
  },
  {
   "cell_type": "code",
   "execution_count": 247,
   "metadata": {},
   "outputs": [],
   "source": [
    "## Convert date to correct format\n",
    "data1['date']  = pd.to_datetime(data1['date'], errors = 'coerce')"
   ]
  },
  {
   "cell_type": "code",
   "execution_count": 248,
   "metadata": {},
   "outputs": [],
   "source": [
    "data1['delay_risk'] = data1['delay_risk'].map({'Yes': 1, 'No': 0})"
   ]
  },
  {
   "cell_type": "code",
   "execution_count": 249,
   "metadata": {},
   "outputs": [
    {
     "name": "stdout",
     "output_type": "stream",
     "text": [
      "[0 1]\n"
     ]
    }
   ],
   "source": [
    "print(data1['delay_risk'].unique())"
   ]
  },
  {
   "cell_type": "code",
   "execution_count": 250,
   "metadata": {},
   "outputs": [
    {
     "name": "stdout",
     "output_type": "stream",
     "text": [
      "Number of duplicate rows: 0\n"
     ]
    }
   ],
   "source": [
    "duplicate_rows = data1.duplicated()\n",
    "print(\"Number of duplicate rows:\", duplicate_rows.sum())"
   ]
  },
  {
   "cell_type": "code",
   "execution_count": 251,
   "metadata": {},
   "outputs": [
    {
     "name": "stdout",
     "output_type": "stream",
     "text": [
      "['P011' 'P003' 'P005' 'P017' 'P019' 'P018' 'P020' 'P010' 'P014' 'P009'\n",
      " 'P016' 'P002' 'P007' 'P015' 'P008' 'P013' 'P006' 'P012' 'P001' 'P004'\n",
      " 'P040' 'P021' 'P024' 'P022' 'P030' 'P032']\n"
     ]
    }
   ],
   "source": [
    "print(data1['product_id'].unique())"
   ]
  },
  {
   "cell_type": "code",
   "execution_count": 252,
   "metadata": {},
   "outputs": [
    {
     "name": "stdout",
     "output_type": "stream",
     "text": [
      "['F001' 'F005' 'F002' 'F003' 'F004']\n"
     ]
    }
   ],
   "source": [
    "print(data1['factory_id'].unique())"
   ]
  },
  {
   "cell_type": "code",
   "execution_count": 253,
   "metadata": {},
   "outputs": [
    {
     "name": "stdout",
     "output_type": "stream",
     "text": [
      "  Factory_ID Product_ID  Manufac_Cost\n",
      "0       F003       P001     10.173168\n",
      "1       F003       P002      9.382752\n",
      "2       F005       P003     10.958153\n",
      "3       F003       P004     11.591240\n",
      "4       F005       P005      9.468200\n"
     ]
    }
   ],
   "source": [
    "print(data2.head())"
   ]
  },
  {
   "cell_type": "code",
   "execution_count": 254,
   "metadata": {},
   "outputs": [],
   "source": [
    "data2 = data2.rename(columns={'Factory_ID': 'factory_id', 'Product_ID': 'product_id', 'Manufac_Cost': 'manufacturing_cost'})"
   ]
  },
  {
   "cell_type": "code",
   "execution_count": 255,
   "metadata": {},
   "outputs": [
    {
     "name": "stdout",
     "output_type": "stream",
     "text": [
      "  factory_id product_id  manufacturing_cost\n",
      "0       F003       P001           10.173168\n",
      "1       F003       P002            9.382752\n",
      "2       F005       P003           10.958153\n",
      "3       F003       P004           11.591240\n",
      "4       F005       P005            9.468200\n"
     ]
    }
   ],
   "source": [
    "print(data2.head())"
   ]
  },
  {
   "cell_type": "code",
   "execution_count": 256,
   "metadata": {},
   "outputs": [
    {
     "name": "stdout",
     "output_type": "stream",
     "text": [
      "       manufacturing_cost\n",
      "count          159.000000\n",
      "mean            14.797284\n",
      "std              8.091600\n",
      "min              2.567953\n",
      "25%              9.253012\n",
      "50%             13.005979\n",
      "75%             17.791158\n",
      "max             43.958555\n"
     ]
    }
   ],
   "source": [
    "print(data2.describe())"
   ]
  },
  {
   "cell_type": "code",
   "execution_count": 257,
   "metadata": {},
   "outputs": [
    {
     "name": "stdout",
     "output_type": "stream",
     "text": [
      "<class 'pandas.core.frame.DataFrame'>\n",
      "RangeIndex: 159 entries, 0 to 158\n",
      "Data columns (total 3 columns):\n",
      " #   Column              Non-Null Count  Dtype  \n",
      "---  ------              --------------  -----  \n",
      " 0   factory_id          159 non-null    object \n",
      " 1   product_id          159 non-null    object \n",
      " 2   manufacturing_cost  159 non-null    float64\n",
      "dtypes: float64(1), object(2)\n",
      "memory usage: 3.9+ KB\n"
     ]
    }
   ],
   "source": [
    "data2.info()"
   ]
  },
  {
   "cell_type": "code",
   "execution_count": 258,
   "metadata": {},
   "outputs": [
    {
     "name": "stdout",
     "output_type": "stream",
     "text": [
      "['P001' 'P002' 'P003' 'P004' 'P005' 'P006' 'P007' 'P008' 'P009' 'P010'\n",
      " 'P011' 'P012' 'P013' 'P014' 'P015' 'P016' 'P017' 'P018' 'P019' 'P020'\n",
      " 'P021' 'P022' 'P023' 'P024' 'P025' 'P026' 'P027' 'P028' 'P029' 'P030'\n",
      " 'P031' 'P032' 'P033' 'P034' 'P035' 'P036' 'P037' 'P038' 'P039' 'P040']\n"
     ]
    }
   ],
   "source": [
    "print(data2['product_id'].unique())"
   ]
  },
  {
   "cell_type": "code",
   "execution_count": 259,
   "metadata": {},
   "outputs": [
    {
     "name": "stdout",
     "output_type": "stream",
     "text": [
      "['F003' 'F005' 'F001' 'F002' 'F004']\n"
     ]
    }
   ],
   "source": [
    "print(data2['factory_id'].unique())"
   ]
  },
  {
   "cell_type": "code",
   "execution_count": 260,
   "metadata": {},
   "outputs": [
    {
     "name": "stdout",
     "output_type": "stream",
     "text": [
      "  Product_ID              Name Gender  Selling_Price  Weight (in Kg)\n",
      "0       P001      Men's Tshirt      M           20.0            0.18\n",
      "1       P002       Men's Shirt      M           30.0            0.20\n",
      "2       P003  Men's Polo Shirt      M           30.0            0.20\n",
      "3       P004  Men's Sweatshirt      M           40.0            0.40\n",
      "4       P005      Men's Hoodie      M           40.0            0.40\n"
     ]
    }
   ],
   "source": [
    "print(data3.head())"
   ]
  },
  {
   "cell_type": "code",
   "execution_count": 261,
   "metadata": {},
   "outputs": [],
   "source": [
    "data3 = data3.rename(columns={'Product_ID': 'product_id', 'Name': 'name', 'Gender': 'gender', 'Selling_Price': 'selling_price', 'Weight (in Kg)': 'weight_kg'})"
   ]
  },
  {
   "cell_type": "code",
   "execution_count": 262,
   "metadata": {},
   "outputs": [
    {
     "name": "stdout",
     "output_type": "stream",
     "text": [
      "  product_id              name gender  selling_price  weight_kg\n",
      "0       P001      Men's Tshirt      M           20.0       0.18\n",
      "1       P002       Men's Shirt      M           30.0       0.20\n",
      "2       P003  Men's Polo Shirt      M           30.0       0.20\n",
      "3       P004  Men's Sweatshirt      M           40.0       0.40\n",
      "4       P005      Men's Hoodie      M           40.0       0.40\n"
     ]
    }
   ],
   "source": [
    "print(data3.head())"
   ]
  },
  {
   "cell_type": "code",
   "execution_count": 263,
   "metadata": {},
   "outputs": [
    {
     "name": "stdout",
     "output_type": "stream",
     "text": [
      "       selling_price  weight_kg\n",
      "count      40.000000  40.000000\n",
      "mean       39.000000   0.527000\n",
      "std        18.158843   0.510179\n",
      "min        10.000000   0.030000\n",
      "25%        30.000000   0.200000\n",
      "50%        30.000000   0.400000\n",
      "75%        50.000000   0.600000\n",
      "max        80.000000   2.200000\n"
     ]
    }
   ],
   "source": [
    "print(data3.describe())"
   ]
  },
  {
   "cell_type": "code",
   "execution_count": 264,
   "metadata": {},
   "outputs": [
    {
     "name": "stdout",
     "output_type": "stream",
     "text": [
      "<class 'pandas.core.frame.DataFrame'>\n",
      "RangeIndex: 40 entries, 0 to 39\n",
      "Data columns (total 5 columns):\n",
      " #   Column         Non-Null Count  Dtype  \n",
      "---  ------         --------------  -----  \n",
      " 0   product_id     40 non-null     object \n",
      " 1   name           40 non-null     object \n",
      " 2   gender         40 non-null     object \n",
      " 3   selling_price  40 non-null     float64\n",
      " 4   weight_kg      40 non-null     float64\n",
      "dtypes: float64(2), object(3)\n",
      "memory usage: 1.7+ KB\n"
     ]
    }
   ],
   "source": [
    "data3.info()"
   ]
  },
  {
   "cell_type": "code",
   "execution_count": 265,
   "metadata": {},
   "outputs": [
    {
     "name": "stdout",
     "output_type": "stream",
     "text": [
      "['M' 'F' 'U']\n"
     ]
    }
   ],
   "source": [
    "print(data3['gender'].unique())"
   ]
  },
  {
   "cell_type": "code",
   "execution_count": 266,
   "metadata": {},
   "outputs": [],
   "source": [
    "data3['gender'] = data3['gender'].map({'M': 0, 'F': 1, 'U': 2})"
   ]
  },
  {
   "cell_type": "code",
   "execution_count": 267,
   "metadata": {},
   "outputs": [
    {
     "name": "stdout",
     "output_type": "stream",
     "text": [
      "['P001' 'P002' 'P003' 'P004' 'P005' 'P006' 'P007' 'P008' 'P009' 'P010'\n",
      " 'P011' 'P012' 'P013' 'P014' 'P015' 'P016' 'P017' 'P018' 'P019' 'P020'\n",
      " 'P021' 'P022' 'P023' 'P024' 'P025' 'P026' 'P027' 'P028' 'P029' 'P030'\n",
      " 'P031' 'P032' 'P033' 'P034' 'P035' 'P036' 'P037' 'P038' 'P039' 'P040']\n"
     ]
    }
   ],
   "source": [
    "print(data3['product_id'].unique())"
   ]
  },
  {
   "cell_type": "code",
   "execution_count": 268,
   "metadata": {},
   "outputs": [
    {
     "name": "stdout",
     "output_type": "stream",
     "text": [
      "  Warehouse_ID Source Factory_ID Product_ID  Shipping Cost (per 1000 pieces)\n",
      "0         W001              F005       P022                           2500.0\n",
      "1         W002              F001       P002                           1400.0\n",
      "2         W003              F002       P014                            450.0\n",
      "3         W004              F003       P024                           9600.0\n",
      "4         W005              F001       P005                           1600.0\n"
     ]
    }
   ],
   "source": [
    "print(data4.head())"
   ]
  },
  {
   "cell_type": "code",
   "execution_count": 269,
   "metadata": {},
   "outputs": [],
   "source": [
    "data4 = data4.rename(columns={'Warehouse_ID': 'warehouse_id', 'Source Factory_ID': 'factory_id', 'Product_ID': 'product_id', 'Shipping Cost (per 1000 pieces)': 'shipping_cost_per_1000_pieces'})"
   ]
  },
  {
   "cell_type": "code",
   "execution_count": 270,
   "metadata": {},
   "outputs": [
    {
     "name": "stdout",
     "output_type": "stream",
     "text": [
      "  warehouse_id factory_id product_id  shipping_cost_per_1000_pieces\n",
      "0         W001       F005       P022                         2500.0\n",
      "1         W002       F001       P002                         1400.0\n",
      "2         W003       F002       P014                          450.0\n",
      "3         W004       F003       P024                         9600.0\n",
      "4         W005       F001       P005                         1600.0\n"
     ]
    }
   ],
   "source": [
    "print(data4.head())"
   ]
  },
  {
   "cell_type": "code",
   "execution_count": 271,
   "metadata": {},
   "outputs": [
    {
     "name": "stdout",
     "output_type": "stream",
     "text": [
      "       shipping_cost_per_1000_pieces\n",
      "count                     386.000000\n",
      "mean                     2482.590674\n",
      "std                      3010.505937\n",
      "min                        30.000000\n",
      "25%                       600.000000\n",
      "50%                      1440.000000\n",
      "75%                      3200.000000\n",
      "max                     22000.000000\n"
     ]
    }
   ],
   "source": [
    "print(data4.describe())"
   ]
  },
  {
   "cell_type": "code",
   "execution_count": 272,
   "metadata": {},
   "outputs": [
    {
     "name": "stdout",
     "output_type": "stream",
     "text": [
      "<class 'pandas.core.frame.DataFrame'>\n",
      "RangeIndex: 386 entries, 0 to 385\n",
      "Data columns (total 4 columns):\n",
      " #   Column                         Non-Null Count  Dtype  \n",
      "---  ------                         --------------  -----  \n",
      " 0   warehouse_id                   386 non-null    object \n",
      " 1   factory_id                     386 non-null    object \n",
      " 2   product_id                     386 non-null    object \n",
      " 3   shipping_cost_per_1000_pieces  386 non-null    float64\n",
      "dtypes: float64(1), object(3)\n",
      "memory usage: 12.2+ KB\n"
     ]
    }
   ],
   "source": [
    "data4.info()"
   ]
  },
  {
   "cell_type": "code",
   "execution_count": 273,
   "metadata": {},
   "outputs": [
    {
     "name": "stdout",
     "output_type": "stream",
     "text": [
      "['P022' 'P002' 'P014' 'P024' 'P005' 'P015' 'P040' 'P032' 'P021' 'P016'\n",
      " 'P020' 'P030' 'P001' 'P003' 'P017' 'P006' 'P004' 'P007' 'P008' 'P009'\n",
      " 'P010' 'P011' 'P012' 'P013' 'P018' 'P019']\n"
     ]
    }
   ],
   "source": [
    "print(data4['product_id'].unique())"
   ]
  },
  {
   "cell_type": "code",
   "execution_count": 274,
   "metadata": {},
   "outputs": [
    {
     "name": "stdout",
     "output_type": "stream",
     "text": [
      "['F005' 'F001' 'F002' 'F003' 'F004']\n"
     ]
    }
   ],
   "source": [
    "print(data4['factory_id'].unique())"
   ]
  },
  {
   "cell_type": "code",
   "execution_count": 275,
   "metadata": {},
   "outputs": [],
   "source": [
    "merged_data = pd.merge(data1, data2, on=['product_id', 'factory_id'], how='inner')"
   ]
  },
  {
   "cell_type": "code",
   "execution_count": 276,
   "metadata": {},
   "outputs": [],
   "source": [
    "merged_data = pd.merge(merged_data, data3, on='product_id', how='inner')"
   ]
  },
  {
   "cell_type": "code",
   "execution_count": 277,
   "metadata": {},
   "outputs": [],
   "source": [
    "merge_data = pd.merge(merged_data, data4, on=['product_id', 'factory_id'],  how='inner')"
   ]
  },
  {
   "cell_type": "code",
   "execution_count": 278,
   "metadata": {},
   "outputs": [
    {
     "name": "stdout",
     "output_type": "stream",
     "text": [
      "                                date  expected_shipping_time  \\\n",
      "count                          82463            82463.000000   \n",
      "mean   2023-08-28 08:44:39.427136768                4.311449   \n",
      "min              2023-04-01 00:00:00                3.000000   \n",
      "25%              2023-06-15 00:00:00                3.000000   \n",
      "50%              2023-08-28 00:00:00                4.000000   \n",
      "75%              2023-11-11 00:00:00                5.000000   \n",
      "max              2024-01-25 00:00:00                6.000000   \n",
      "std                              NaN                1.106820   \n",
      "\n",
      "       actual_shipping_time    delay_risk  total_pieces   pieces_sold  \\\n",
      "count          82463.000000  82463.000000  82463.000000  82463.000000   \n",
      "mean               4.486812      0.269357   1223.386974    871.602719   \n",
      "min                1.000000      0.000000    500.000000    101.000000   \n",
      "25%                3.000000      0.000000    921.000000    610.000000   \n",
      "50%                4.000000      0.000000   1232.000000    871.000000   \n",
      "75%                6.000000      1.000000   1547.000000   1108.000000   \n",
      "max                8.000000      1.000000   1999.000000   1794.000000   \n",
      "std                1.553862      0.443629    385.185614    327.172347   \n",
      "\n",
      "       pieces_returned  average_batch_rating  manufacturing_cost  \\\n",
      "count     82463.000000          82463.000000        82463.000000   \n",
      "mean         69.869905              4.249951           12.887541   \n",
      "min          14.000000              3.500000            5.634468   \n",
      "25%          45.000000              3.900000            9.382752   \n",
      "50%          63.000000              4.200000           10.958153   \n",
      "75%          86.000000              4.600000           16.036461   \n",
      "max         333.000000              5.000000           33.393517   \n",
      "std          35.470197              0.434285            5.192041   \n",
      "\n",
      "             gender  selling_price     weight_kg  \n",
      "count  82463.000000   82463.000000  82463.000000  \n",
      "mean       0.259801      37.838061      0.502096  \n",
      "min        0.000000      15.000000      0.030000  \n",
      "25%        0.000000      30.000000      0.200000  \n",
      "50%        0.000000      30.000000      0.400000  \n",
      "75%        1.000000      40.000000      0.600000  \n",
      "max        2.000000      80.000000      2.200000  \n",
      "std        0.444461      15.939725      0.494375  \n"
     ]
    }
   ],
   "source": [
    "print(merged_data.describe())"
   ]
  },
  {
   "cell_type": "code",
   "execution_count": 279,
   "metadata": {},
   "outputs": [
    {
     "name": "stdout",
     "output_type": "stream",
     "text": [
      "Shape of merged dataset:  (82463, 17)\n"
     ]
    }
   ],
   "source": [
    "print(\"Shape of merged dataset: \", merged_data.shape)"
   ]
  },
  {
   "cell_type": "code",
   "execution_count": 280,
   "metadata": {},
   "outputs": [
    {
     "name": "stdout",
     "output_type": "stream",
     "text": [
      "Shape of data1: (82463, 12)\n",
      "Shape of data2: (159, 3)\n",
      "Shape of data3: (40, 5)\n",
      "Shape of data4: (386, 4)\n"
     ]
    }
   ],
   "source": [
    "print(\"Shape of data1:\", data1.shape)\n",
    "print(\"Shape of data2:\", data2.shape)\n",
    "print(\"Shape of data3:\", data3.shape)\n",
    "print(\"Shape of data4:\", data4.shape)"
   ]
  },
  {
   "cell_type": "code",
   "execution_count": 281,
   "metadata": {},
   "outputs": [
    {
     "name": "stdout",
     "output_type": "stream",
     "text": [
      "        date order_id product_id warehouse factory_id  expected_shipping_time  \\\n",
      "0 2023-04-01   O00001       P011      W013       F001                       4   \n",
      "1 2023-04-01   O00002       P003      W007       F005                       3   \n",
      "2 2023-04-01   O00003       P005      W008       F005                       4   \n",
      "3 2023-04-01   O00004       P017      W009       F001                       3   \n",
      "4 2023-04-01   O00005       P019      W019       F002                       6   \n",
      "\n",
      "   actual_shipping_time  delay_risk  total_pieces  pieces_sold  \\\n",
      "0                     4           0          1873         1368   \n",
      "1                     2           0           820          582   \n",
      "2                     5           1          1225          781   \n",
      "3                     3           0          1559         1304   \n",
      "4                     6           0           907          596   \n",
      "\n",
      "   pieces_returned  average_batch_rating  manufacturing_cost  \\\n",
      "0               76                   4.4           16.036461   \n",
      "1               36                   3.8           10.958153   \n",
      "2               86                   4.7            9.468200   \n",
      "3               56                   4.7           12.485528   \n",
      "4               50                   4.9           22.975938   \n",
      "\n",
      "                 name  gender  selling_price  weight_kg  \n",
      "0        Men's Blazer       0           80.0        2.2  \n",
      "1    Men's Polo Shirt       0           30.0        0.2  \n",
      "2        Men's Hoodie       0           40.0        0.4  \n",
      "3  Women's Polo Shirt       1           30.0        0.2  \n",
      "4      Women's Hoodie       1           40.0        0.4  \n"
     ]
    }
   ],
   "source": [
    "print(merged_data.head())"
   ]
  },
  {
   "cell_type": "code",
   "execution_count": 282,
   "metadata": {},
   "outputs": [
    {
     "name": "stdout",
     "output_type": "stream",
     "text": [
      "date                      0\n",
      "order_id                  0\n",
      "product_id                0\n",
      "warehouse                 0\n",
      "factory_id                0\n",
      "expected_shipping_time    0\n",
      "actual_shipping_time      0\n",
      "delay_risk                0\n",
      "total_pieces              0\n",
      "pieces_sold               0\n",
      "pieces_returned           0\n",
      "average_batch_rating      0\n",
      "manufacturing_cost        0\n",
      "name                      0\n",
      "gender                    0\n",
      "selling_price             0\n",
      "weight_kg                 0\n",
      "dtype: int64\n"
     ]
    }
   ],
   "source": [
    "print(merged_data.isnull().sum())"
   ]
  },
  {
   "cell_type": "code",
   "execution_count": 283,
   "metadata": {},
   "outputs": [
    {
     "name": "stdout",
     "output_type": "stream",
     "text": [
      "Number of duplicate rows: 0\n"
     ]
    }
   ],
   "source": [
    "duplicate_rows = merged_data.duplicated()\n",
    "print(\"Number of duplicate rows:\", duplicate_rows.sum())"
   ]
  },
  {
   "cell_type": "code",
   "execution_count": 284,
   "metadata": {},
   "outputs": [],
   "source": [
    "merged_data.to_csv('../data/processed/merged_data.csv', index=False)"
   ]
  }
 ],
 "metadata": {
  "kernelspec": {
   "display_name": "Python 3",
   "language": "python",
   "name": "python3"
  },
  "language_info": {
   "codemirror_mode": {
    "name": "ipython",
    "version": 3
   },
   "file_extension": ".py",
   "mimetype": "text/x-python",
   "name": "python",
   "nbconvert_exporter": "python",
   "pygments_lexer": "ipython3",
   "version": "3.11.9"
  }
 },
 "nbformat": 4,
 "nbformat_minor": 2
}
